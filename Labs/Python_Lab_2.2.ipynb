{
 "cells": [
  {
   "cell_type": "markdown",
   "metadata": {
    "id": "E9Y5ss1ZYj3r"
   },
   "source": [
    "# Python_Lab_2.2\n"
   ]
  },
  {
   "cell_type": "markdown",
   "metadata": {
    "id": "Q1kAqc72Yj3t"
   },
   "source": [
    "### Task 1\n",
    "1. Write a program that prompts the user to enter two numbers and prints their division. Handle cases where the user enters non-numeric values or attempts to divide by zero using a try-except block.\n"
   ]
  },
  {
   "cell_type": "code",
   "execution_count": 23,
   "metadata": {
    "id": "H-xyoRTVYj3t"
   },
   "outputs": [
    {
     "name": "stdout",
     "output_type": "stream",
     "text": [
      "Enter the first number\n"
     ]
    },
    {
     "name": "stdin",
     "output_type": "stream",
     "text": [
      " 10\n"
     ]
    },
    {
     "name": "stdout",
     "output_type": "stream",
     "text": [
      "Enter the second number\n"
     ]
    },
    {
     "name": "stdin",
     "output_type": "stream",
     "text": [
      " 2\n"
     ]
    },
    {
     "name": "stdout",
     "output_type": "stream",
     "text": [
      "The result is 5.0\n"
     ]
    }
   ],
   "source": [
    "# write your code here ^_^\n",
    "try:\n",
    "    print(\"Enter the first number\")\n",
    "    x = int(input())\n",
    "    print(\"Enter the second number\")\n",
    "    y = int(input())\n",
    "    z = x/y\n",
    "    print(f\"The result is {z}\")\n",
    "except:\n",
    "    print(\"Error!\")"
   ]
  },
  {
   "cell_type": "markdown",
   "metadata": {
    "id": "CPWcDSC_Yj3u"
   },
   "source": [
    "### Task 2\n",
    "- Use \"Random\" library to do the following:\n",
    "    1. Create a list of random numbers using list comprehension.\n",
    "    2. Create a list of squares of the even numbers from random numbers using list comprehension.\n",
    "    3. Create a list of tuples (number, square) for random numbers using list comprehension."
   ]
  },
  {
   "cell_type": "code",
   "execution_count": 38,
   "metadata": {
    "id": "Yfq-i6CeYj3u"
   },
   "outputs": [
    {
     "name": "stdout",
     "output_type": "stream",
     "text": [
      "[5, 22, 32, 17, 19, 41, 18, 25, 20, 3]\n",
      "-------------------------\n",
      "[49, 25, 2025, 1444, 1296, 64, 289, 484, 1089, 1156]\n",
      "-------------------------\n",
      "[(7, 49), (5, 25), (45, 2025), (38, 1444), (36, 1296), (8, 64), (17, 289), (22, 484), (33, 1089), (34, 1156)]\n"
     ]
    }
   ],
   "source": [
    "# write your code here ^_^\n",
    "import random\n",
    "#1\n",
    "my_list = [x for x in random.sample(range(1,50),10)]\n",
    "print(list)\n",
    "print(\"-------------------------\")\n",
    "#2\n",
    "squares_list = [x * x for x in my_list]\n",
    "print(squares_list)\n",
    "print(\"-------------------------\")\n",
    "#3\n",
    "list_tuples = [(x,x*x) for x in my_list]\n",
    "print(list_tuples)"
   ]
  },
  {
   "cell_type": "markdown",
   "metadata": {
    "id": "jYdOq46NYj3u"
   },
   "source": [
    "### Task 3\n",
    "- Create a dictionary where the keys are numbers from 1 to 5 and the values are list of their squares and cubes.\n",
    "\n",
    "  - **hint**: use dictionary of list comprehension.\n",
    "\n",
    "- Create a dictionary from two lists (one with keys and one with values) using dictionary comprehension.\n",
    "\n"
   ]
  },
  {
   "cell_type": "code",
   "execution_count": 40,
   "metadata": {
    "id": "IEnsiNmCYj3u"
   },
   "outputs": [
    {
     "name": "stdout",
     "output_type": "stream",
     "text": [
      "{1: (1, 1), 2: (4, 8), 3: (9, 27), 4: (16, 64), 5: (25, 125)}\n"
     ]
    }
   ],
   "source": [
    "# write your code here ^_^\n",
    "#1\n",
    "dict ={1,2,3,4,5}\n",
    "dict_S_C = {x:(x**2,x**3) for x in dict}\n",
    "print(dict_S_C)"
   ]
  },
  {
   "cell_type": "code",
   "execution_count": 44,
   "metadata": {},
   "outputs": [
    {
     "name": "stdout",
     "output_type": "stream",
     "text": [
      "{'a': 'y', 'b': 'w', 'd': 'q', 'f': 'i', 'g': 's'}\n"
     ]
    }
   ],
   "source": [
    "#2\n",
    "dict_keys = [\"a\",\"b\",\"d\",\"f\",\"g\"]\n",
    "dict_values = [\"y\",\"w\",\"q\",\"i\",\"s\"]\n",
    "dict_zip = zip(dict_keys,dict_values)\n",
    "dict_list = {x:y for x,y in dict_zip}\n",
    "print(dict_list)"
   ]
  },
  {
   "cell_type": "markdown",
   "metadata": {
    "id": "6T9TCQ8SYj3v"
   },
   "source": [
    "### Task 4\n",
    "- Given a dictionary where keys are student names and values are lists of their scores, write a function that updates the scores of students who have achieved a perfect score (100) by adding a bonus of 5 points to each score. Use dictionary comprehension to achieve this.\n",
    "\n",
    "    - Implement the function add_bonus_to_perfect_scores(student_scores) that adds a bonus of 5 points to each score of students who have achieved a perfect score (100)."
   ]
  },
  {
   "cell_type": "code",
   "execution_count": 66,
   "metadata": {
    "id": "T3R_VsQpYj3v"
   },
   "outputs": [
    {
     "name": "stdout",
     "output_type": "stream",
     "text": [
      "{'Aziz': [95, 105], 'Mohammed': [99, 93], 'Abdullah': [82, 87], 'naif': [70, 92], 'ahmad': [105, 94]}\n"
     ]
    }
   ],
   "source": [
    "# write your code here ^_^\n",
    "def add_bonus_to_perfect_scores(student_scores):\n",
    "    bonus_5 = {x:[y+5 if y == 100 else y for y in y ] for x , y in student_scores.items()}\n",
    "    return bonus_5\n",
    "\n",
    "dict_score = {\"Aziz\":[95,100],\"Mohammed\":[99,93],\"Abdullah\":[82,87],\"naif\":[70,92],\"ahmad\":[100,94]}\n",
    "print(add_bonus_to_perfect_scores(dict_score))\n"
   ]
  }
 ],
 "metadata": {
  "colab": {
   "provenance": []
  },
  "kernelspec": {
   "display_name": "Python 3 (ipykernel)",
   "language": "python",
   "name": "python3"
  },
  "language_info": {
   "codemirror_mode": {
    "name": "ipython",
    "version": 3
   },
   "file_extension": ".py",
   "mimetype": "text/x-python",
   "name": "python",
   "nbconvert_exporter": "python",
   "pygments_lexer": "ipython3",
   "version": "3.12.4"
  }
 },
 "nbformat": 4,
 "nbformat_minor": 4
}
